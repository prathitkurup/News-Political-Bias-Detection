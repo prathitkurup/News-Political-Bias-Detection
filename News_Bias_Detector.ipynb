{
  "nbformat": 4,
  "nbformat_minor": 0,
  "metadata": {
    "colab": {
      "provenance": []
    },
    "kernelspec": {
      "name": "python3",
      "display_name": "Python 3"
    },
    "language_info": {
      "name": "python"
    },
    "widgets": {
      "application/vnd.jupyter.widget-state+json": {
        "59d9e75dad794e7887b735670348c0ef": {
          "model_module": "@jupyter-widgets/controls",
          "model_name": "HBoxModel",
          "model_module_version": "1.5.0",
          "state": {
            "_dom_classes": [],
            "_model_module": "@jupyter-widgets/controls",
            "_model_module_version": "1.5.0",
            "_model_name": "HBoxModel",
            "_view_count": null,
            "_view_module": "@jupyter-widgets/controls",
            "_view_module_version": "1.5.0",
            "_view_name": "HBoxView",
            "box_style": "",
            "children": [
              "IPY_MODEL_8c7ddfda83ac46d081d0e13eae24d20a",
              "IPY_MODEL_6ca98ca9df8446008eb7a33e6eb4de52",
              "IPY_MODEL_b234ab96110f483a836c238a6be0f343"
            ],
            "layout": "IPY_MODEL_2bf8f42634cc4f8d95ec7e70a1e90abc"
          }
        },
        "8c7ddfda83ac46d081d0e13eae24d20a": {
          "model_module": "@jupyter-widgets/controls",
          "model_name": "HTMLModel",
          "model_module_version": "1.5.0",
          "state": {
            "_dom_classes": [],
            "_model_module": "@jupyter-widgets/controls",
            "_model_module_version": "1.5.0",
            "_model_name": "HTMLModel",
            "_view_count": null,
            "_view_module": "@jupyter-widgets/controls",
            "_view_module_version": "1.5.0",
            "_view_name": "HTMLView",
            "description": "",
            "description_tooltip": null,
            "layout": "IPY_MODEL_f24ff6ae82bc429186922c6be47a95af",
            "placeholder": "​",
            "style": "IPY_MODEL_d5fb8135af944cde8a4ee45a94027ed8",
            "value": "tokenizer_config.json: 100%"
          }
        },
        "6ca98ca9df8446008eb7a33e6eb4de52": {
          "model_module": "@jupyter-widgets/controls",
          "model_name": "FloatProgressModel",
          "model_module_version": "1.5.0",
          "state": {
            "_dom_classes": [],
            "_model_module": "@jupyter-widgets/controls",
            "_model_module_version": "1.5.0",
            "_model_name": "FloatProgressModel",
            "_view_count": null,
            "_view_module": "@jupyter-widgets/controls",
            "_view_module_version": "1.5.0",
            "_view_name": "ProgressView",
            "bar_style": "success",
            "description": "",
            "description_tooltip": null,
            "layout": "IPY_MODEL_e5f05139b15f49e2ae42ff3310f383a5",
            "max": 48,
            "min": 0,
            "orientation": "horizontal",
            "style": "IPY_MODEL_77312955e4d4405bafae8f46d8219c26",
            "value": 48
          }
        },
        "b234ab96110f483a836c238a6be0f343": {
          "model_module": "@jupyter-widgets/controls",
          "model_name": "HTMLModel",
          "model_module_version": "1.5.0",
          "state": {
            "_dom_classes": [],
            "_model_module": "@jupyter-widgets/controls",
            "_model_module_version": "1.5.0",
            "_model_name": "HTMLModel",
            "_view_count": null,
            "_view_module": "@jupyter-widgets/controls",
            "_view_module_version": "1.5.0",
            "_view_name": "HTMLView",
            "description": "",
            "description_tooltip": null,
            "layout": "IPY_MODEL_2d3f4c8c8a4b4ab1874c0ab2bd34c088",
            "placeholder": "​",
            "style": "IPY_MODEL_62bdfd91888346d5a0c0a2b270152f29",
            "value": " 48.0/48.0 [00:00&lt;00:00, 3.28kB/s]"
          }
        },
        "2bf8f42634cc4f8d95ec7e70a1e90abc": {
          "model_module": "@jupyter-widgets/base",
          "model_name": "LayoutModel",
          "model_module_version": "1.2.0",
          "state": {
            "_model_module": "@jupyter-widgets/base",
            "_model_module_version": "1.2.0",
            "_model_name": "LayoutModel",
            "_view_count": null,
            "_view_module": "@jupyter-widgets/base",
            "_view_module_version": "1.2.0",
            "_view_name": "LayoutView",
            "align_content": null,
            "align_items": null,
            "align_self": null,
            "border": null,
            "bottom": null,
            "display": null,
            "flex": null,
            "flex_flow": null,
            "grid_area": null,
            "grid_auto_columns": null,
            "grid_auto_flow": null,
            "grid_auto_rows": null,
            "grid_column": null,
            "grid_gap": null,
            "grid_row": null,
            "grid_template_areas": null,
            "grid_template_columns": null,
            "grid_template_rows": null,
            "height": null,
            "justify_content": null,
            "justify_items": null,
            "left": null,
            "margin": null,
            "max_height": null,
            "max_width": null,
            "min_height": null,
            "min_width": null,
            "object_fit": null,
            "object_position": null,
            "order": null,
            "overflow": null,
            "overflow_x": null,
            "overflow_y": null,
            "padding": null,
            "right": null,
            "top": null,
            "visibility": null,
            "width": null
          }
        },
        "f24ff6ae82bc429186922c6be47a95af": {
          "model_module": "@jupyter-widgets/base",
          "model_name": "LayoutModel",
          "model_module_version": "1.2.0",
          "state": {
            "_model_module": "@jupyter-widgets/base",
            "_model_module_version": "1.2.0",
            "_model_name": "LayoutModel",
            "_view_count": null,
            "_view_module": "@jupyter-widgets/base",
            "_view_module_version": "1.2.0",
            "_view_name": "LayoutView",
            "align_content": null,
            "align_items": null,
            "align_self": null,
            "border": null,
            "bottom": null,
            "display": null,
            "flex": null,
            "flex_flow": null,
            "grid_area": null,
            "grid_auto_columns": null,
            "grid_auto_flow": null,
            "grid_auto_rows": null,
            "grid_column": null,
            "grid_gap": null,
            "grid_row": null,
            "grid_template_areas": null,
            "grid_template_columns": null,
            "grid_template_rows": null,
            "height": null,
            "justify_content": null,
            "justify_items": null,
            "left": null,
            "margin": null,
            "max_height": null,
            "max_width": null,
            "min_height": null,
            "min_width": null,
            "object_fit": null,
            "object_position": null,
            "order": null,
            "overflow": null,
            "overflow_x": null,
            "overflow_y": null,
            "padding": null,
            "right": null,
            "top": null,
            "visibility": null,
            "width": null
          }
        },
        "d5fb8135af944cde8a4ee45a94027ed8": {
          "model_module": "@jupyter-widgets/controls",
          "model_name": "DescriptionStyleModel",
          "model_module_version": "1.5.0",
          "state": {
            "_model_module": "@jupyter-widgets/controls",
            "_model_module_version": "1.5.0",
            "_model_name": "DescriptionStyleModel",
            "_view_count": null,
            "_view_module": "@jupyter-widgets/base",
            "_view_module_version": "1.2.0",
            "_view_name": "StyleView",
            "description_width": ""
          }
        },
        "e5f05139b15f49e2ae42ff3310f383a5": {
          "model_module": "@jupyter-widgets/base",
          "model_name": "LayoutModel",
          "model_module_version": "1.2.0",
          "state": {
            "_model_module": "@jupyter-widgets/base",
            "_model_module_version": "1.2.0",
            "_model_name": "LayoutModel",
            "_view_count": null,
            "_view_module": "@jupyter-widgets/base",
            "_view_module_version": "1.2.0",
            "_view_name": "LayoutView",
            "align_content": null,
            "align_items": null,
            "align_self": null,
            "border": null,
            "bottom": null,
            "display": null,
            "flex": null,
            "flex_flow": null,
            "grid_area": null,
            "grid_auto_columns": null,
            "grid_auto_flow": null,
            "grid_auto_rows": null,
            "grid_column": null,
            "grid_gap": null,
            "grid_row": null,
            "grid_template_areas": null,
            "grid_template_columns": null,
            "grid_template_rows": null,
            "height": null,
            "justify_content": null,
            "justify_items": null,
            "left": null,
            "margin": null,
            "max_height": null,
            "max_width": null,
            "min_height": null,
            "min_width": null,
            "object_fit": null,
            "object_position": null,
            "order": null,
            "overflow": null,
            "overflow_x": null,
            "overflow_y": null,
            "padding": null,
            "right": null,
            "top": null,
            "visibility": null,
            "width": null
          }
        },
        "77312955e4d4405bafae8f46d8219c26": {
          "model_module": "@jupyter-widgets/controls",
          "model_name": "ProgressStyleModel",
          "model_module_version": "1.5.0",
          "state": {
            "_model_module": "@jupyter-widgets/controls",
            "_model_module_version": "1.5.0",
            "_model_name": "ProgressStyleModel",
            "_view_count": null,
            "_view_module": "@jupyter-widgets/base",
            "_view_module_version": "1.2.0",
            "_view_name": "StyleView",
            "bar_color": null,
            "description_width": ""
          }
        },
        "2d3f4c8c8a4b4ab1874c0ab2bd34c088": {
          "model_module": "@jupyter-widgets/base",
          "model_name": "LayoutModel",
          "model_module_version": "1.2.0",
          "state": {
            "_model_module": "@jupyter-widgets/base",
            "_model_module_version": "1.2.0",
            "_model_name": "LayoutModel",
            "_view_count": null,
            "_view_module": "@jupyter-widgets/base",
            "_view_module_version": "1.2.0",
            "_view_name": "LayoutView",
            "align_content": null,
            "align_items": null,
            "align_self": null,
            "border": null,
            "bottom": null,
            "display": null,
            "flex": null,
            "flex_flow": null,
            "grid_area": null,
            "grid_auto_columns": null,
            "grid_auto_flow": null,
            "grid_auto_rows": null,
            "grid_column": null,
            "grid_gap": null,
            "grid_row": null,
            "grid_template_areas": null,
            "grid_template_columns": null,
            "grid_template_rows": null,
            "height": null,
            "justify_content": null,
            "justify_items": null,
            "left": null,
            "margin": null,
            "max_height": null,
            "max_width": null,
            "min_height": null,
            "min_width": null,
            "object_fit": null,
            "object_position": null,
            "order": null,
            "overflow": null,
            "overflow_x": null,
            "overflow_y": null,
            "padding": null,
            "right": null,
            "top": null,
            "visibility": null,
            "width": null
          }
        },
        "62bdfd91888346d5a0c0a2b270152f29": {
          "model_module": "@jupyter-widgets/controls",
          "model_name": "DescriptionStyleModel",
          "model_module_version": "1.5.0",
          "state": {
            "_model_module": "@jupyter-widgets/controls",
            "_model_module_version": "1.5.0",
            "_model_name": "DescriptionStyleModel",
            "_view_count": null,
            "_view_module": "@jupyter-widgets/base",
            "_view_module_version": "1.2.0",
            "_view_name": "StyleView",
            "description_width": ""
          }
        },
        "68ffcbc44f324d5ea09f0b2db42e7682": {
          "model_module": "@jupyter-widgets/controls",
          "model_name": "HBoxModel",
          "model_module_version": "1.5.0",
          "state": {
            "_dom_classes": [],
            "_model_module": "@jupyter-widgets/controls",
            "_model_module_version": "1.5.0",
            "_model_name": "HBoxModel",
            "_view_count": null,
            "_view_module": "@jupyter-widgets/controls",
            "_view_module_version": "1.5.0",
            "_view_name": "HBoxView",
            "box_style": "",
            "children": [
              "IPY_MODEL_f1722a0d65fd4f6bb48c5ebb425e25d4",
              "IPY_MODEL_9139a0866eb04a46bde1bbeb2ef1e0c5",
              "IPY_MODEL_1640231a668241f398bb9aa4971f52b5"
            ],
            "layout": "IPY_MODEL_88e749fbdb2c433c81aefe28efc9c0a4"
          }
        },
        "f1722a0d65fd4f6bb48c5ebb425e25d4": {
          "model_module": "@jupyter-widgets/controls",
          "model_name": "HTMLModel",
          "model_module_version": "1.5.0",
          "state": {
            "_dom_classes": [],
            "_model_module": "@jupyter-widgets/controls",
            "_model_module_version": "1.5.0",
            "_model_name": "HTMLModel",
            "_view_count": null,
            "_view_module": "@jupyter-widgets/controls",
            "_view_module_version": "1.5.0",
            "_view_name": "HTMLView",
            "description": "",
            "description_tooltip": null,
            "layout": "IPY_MODEL_7854485533d04e76bf695d104a0bce8a",
            "placeholder": "​",
            "style": "IPY_MODEL_8e711899be56442d9bb0a747767b4308",
            "value": "config.json: 100%"
          }
        },
        "9139a0866eb04a46bde1bbeb2ef1e0c5": {
          "model_module": "@jupyter-widgets/controls",
          "model_name": "FloatProgressModel",
          "model_module_version": "1.5.0",
          "state": {
            "_dom_classes": [],
            "_model_module": "@jupyter-widgets/controls",
            "_model_module_version": "1.5.0",
            "_model_name": "FloatProgressModel",
            "_view_count": null,
            "_view_module": "@jupyter-widgets/controls",
            "_view_module_version": "1.5.0",
            "_view_name": "ProgressView",
            "bar_style": "success",
            "description": "",
            "description_tooltip": null,
            "layout": "IPY_MODEL_2478aa217fac494e9629ef481ea4d345",
            "max": 570,
            "min": 0,
            "orientation": "horizontal",
            "style": "IPY_MODEL_9cd775d22e714cae8c3fcb345b03e8f2",
            "value": 570
          }
        },
        "1640231a668241f398bb9aa4971f52b5": {
          "model_module": "@jupyter-widgets/controls",
          "model_name": "HTMLModel",
          "model_module_version": "1.5.0",
          "state": {
            "_dom_classes": [],
            "_model_module": "@jupyter-widgets/controls",
            "_model_module_version": "1.5.0",
            "_model_name": "HTMLModel",
            "_view_count": null,
            "_view_module": "@jupyter-widgets/controls",
            "_view_module_version": "1.5.0",
            "_view_name": "HTMLView",
            "description": "",
            "description_tooltip": null,
            "layout": "IPY_MODEL_f7e78984dc9e4b5aa276e44f6bb7589d",
            "placeholder": "​",
            "style": "IPY_MODEL_7f6553fe4e19426f93c336d3f260138d",
            "value": " 570/570 [00:00&lt;00:00, 51.0kB/s]"
          }
        },
        "88e749fbdb2c433c81aefe28efc9c0a4": {
          "model_module": "@jupyter-widgets/base",
          "model_name": "LayoutModel",
          "model_module_version": "1.2.0",
          "state": {
            "_model_module": "@jupyter-widgets/base",
            "_model_module_version": "1.2.0",
            "_model_name": "LayoutModel",
            "_view_count": null,
            "_view_module": "@jupyter-widgets/base",
            "_view_module_version": "1.2.0",
            "_view_name": "LayoutView",
            "align_content": null,
            "align_items": null,
            "align_self": null,
            "border": null,
            "bottom": null,
            "display": null,
            "flex": null,
            "flex_flow": null,
            "grid_area": null,
            "grid_auto_columns": null,
            "grid_auto_flow": null,
            "grid_auto_rows": null,
            "grid_column": null,
            "grid_gap": null,
            "grid_row": null,
            "grid_template_areas": null,
            "grid_template_columns": null,
            "grid_template_rows": null,
            "height": null,
            "justify_content": null,
            "justify_items": null,
            "left": null,
            "margin": null,
            "max_height": null,
            "max_width": null,
            "min_height": null,
            "min_width": null,
            "object_fit": null,
            "object_position": null,
            "order": null,
            "overflow": null,
            "overflow_x": null,
            "overflow_y": null,
            "padding": null,
            "right": null,
            "top": null,
            "visibility": null,
            "width": null
          }
        },
        "7854485533d04e76bf695d104a0bce8a": {
          "model_module": "@jupyter-widgets/base",
          "model_name": "LayoutModel",
          "model_module_version": "1.2.0",
          "state": {
            "_model_module": "@jupyter-widgets/base",
            "_model_module_version": "1.2.0",
            "_model_name": "LayoutModel",
            "_view_count": null,
            "_view_module": "@jupyter-widgets/base",
            "_view_module_version": "1.2.0",
            "_view_name": "LayoutView",
            "align_content": null,
            "align_items": null,
            "align_self": null,
            "border": null,
            "bottom": null,
            "display": null,
            "flex": null,
            "flex_flow": null,
            "grid_area": null,
            "grid_auto_columns": null,
            "grid_auto_flow": null,
            "grid_auto_rows": null,
            "grid_column": null,
            "grid_gap": null,
            "grid_row": null,
            "grid_template_areas": null,
            "grid_template_columns": null,
            "grid_template_rows": null,
            "height": null,
            "justify_content": null,
            "justify_items": null,
            "left": null,
            "margin": null,
            "max_height": null,
            "max_width": null,
            "min_height": null,
            "min_width": null,
            "object_fit": null,
            "object_position": null,
            "order": null,
            "overflow": null,
            "overflow_x": null,
            "overflow_y": null,
            "padding": null,
            "right": null,
            "top": null,
            "visibility": null,
            "width": null
          }
        },
        "8e711899be56442d9bb0a747767b4308": {
          "model_module": "@jupyter-widgets/controls",
          "model_name": "DescriptionStyleModel",
          "model_module_version": "1.5.0",
          "state": {
            "_model_module": "@jupyter-widgets/controls",
            "_model_module_version": "1.5.0",
            "_model_name": "DescriptionStyleModel",
            "_view_count": null,
            "_view_module": "@jupyter-widgets/base",
            "_view_module_version": "1.2.0",
            "_view_name": "StyleView",
            "description_width": ""
          }
        },
        "2478aa217fac494e9629ef481ea4d345": {
          "model_module": "@jupyter-widgets/base",
          "model_name": "LayoutModel",
          "model_module_version": "1.2.0",
          "state": {
            "_model_module": "@jupyter-widgets/base",
            "_model_module_version": "1.2.0",
            "_model_name": "LayoutModel",
            "_view_count": null,
            "_view_module": "@jupyter-widgets/base",
            "_view_module_version": "1.2.0",
            "_view_name": "LayoutView",
            "align_content": null,
            "align_items": null,
            "align_self": null,
            "border": null,
            "bottom": null,
            "display": null,
            "flex": null,
            "flex_flow": null,
            "grid_area": null,
            "grid_auto_columns": null,
            "grid_auto_flow": null,
            "grid_auto_rows": null,
            "grid_column": null,
            "grid_gap": null,
            "grid_row": null,
            "grid_template_areas": null,
            "grid_template_columns": null,
            "grid_template_rows": null,
            "height": null,
            "justify_content": null,
            "justify_items": null,
            "left": null,
            "margin": null,
            "max_height": null,
            "max_width": null,
            "min_height": null,
            "min_width": null,
            "object_fit": null,
            "object_position": null,
            "order": null,
            "overflow": null,
            "overflow_x": null,
            "overflow_y": null,
            "padding": null,
            "right": null,
            "top": null,
            "visibility": null,
            "width": null
          }
        },
        "9cd775d22e714cae8c3fcb345b03e8f2": {
          "model_module": "@jupyter-widgets/controls",
          "model_name": "ProgressStyleModel",
          "model_module_version": "1.5.0",
          "state": {
            "_model_module": "@jupyter-widgets/controls",
            "_model_module_version": "1.5.0",
            "_model_name": "ProgressStyleModel",
            "_view_count": null,
            "_view_module": "@jupyter-widgets/base",
            "_view_module_version": "1.2.0",
            "_view_name": "StyleView",
            "bar_color": null,
            "description_width": ""
          }
        },
        "f7e78984dc9e4b5aa276e44f6bb7589d": {
          "model_module": "@jupyter-widgets/base",
          "model_name": "LayoutModel",
          "model_module_version": "1.2.0",
          "state": {
            "_model_module": "@jupyter-widgets/base",
            "_model_module_version": "1.2.0",
            "_model_name": "LayoutModel",
            "_view_count": null,
            "_view_module": "@jupyter-widgets/base",
            "_view_module_version": "1.2.0",
            "_view_name": "LayoutView",
            "align_content": null,
            "align_items": null,
            "align_self": null,
            "border": null,
            "bottom": null,
            "display": null,
            "flex": null,
            "flex_flow": null,
            "grid_area": null,
            "grid_auto_columns": null,
            "grid_auto_flow": null,
            "grid_auto_rows": null,
            "grid_column": null,
            "grid_gap": null,
            "grid_row": null,
            "grid_template_areas": null,
            "grid_template_columns": null,
            "grid_template_rows": null,
            "height": null,
            "justify_content": null,
            "justify_items": null,
            "left": null,
            "margin": null,
            "max_height": null,
            "max_width": null,
            "min_height": null,
            "min_width": null,
            "object_fit": null,
            "object_position": null,
            "order": null,
            "overflow": null,
            "overflow_x": null,
            "overflow_y": null,
            "padding": null,
            "right": null,
            "top": null,
            "visibility": null,
            "width": null
          }
        },
        "7f6553fe4e19426f93c336d3f260138d": {
          "model_module": "@jupyter-widgets/controls",
          "model_name": "DescriptionStyleModel",
          "model_module_version": "1.5.0",
          "state": {
            "_model_module": "@jupyter-widgets/controls",
            "_model_module_version": "1.5.0",
            "_model_name": "DescriptionStyleModel",
            "_view_count": null,
            "_view_module": "@jupyter-widgets/base",
            "_view_module_version": "1.2.0",
            "_view_name": "StyleView",
            "description_width": ""
          }
        },
        "22bce1e0fcd14b099f959f6ebe74933e": {
          "model_module": "@jupyter-widgets/controls",
          "model_name": "HBoxModel",
          "model_module_version": "1.5.0",
          "state": {
            "_dom_classes": [],
            "_model_module": "@jupyter-widgets/controls",
            "_model_module_version": "1.5.0",
            "_model_name": "HBoxModel",
            "_view_count": null,
            "_view_module": "@jupyter-widgets/controls",
            "_view_module_version": "1.5.0",
            "_view_name": "HBoxView",
            "box_style": "",
            "children": [
              "IPY_MODEL_185e1b2c97864b1988a4d8eea3058107",
              "IPY_MODEL_2bebe592ba7045ea9b4895580cf0d6d3",
              "IPY_MODEL_154295fdc2da496f80ebd71a8582b9d4"
            ],
            "layout": "IPY_MODEL_bbc1b3df90d441d5a024c1fdd5eb1c8c"
          }
        },
        "185e1b2c97864b1988a4d8eea3058107": {
          "model_module": "@jupyter-widgets/controls",
          "model_name": "HTMLModel",
          "model_module_version": "1.5.0",
          "state": {
            "_dom_classes": [],
            "_model_module": "@jupyter-widgets/controls",
            "_model_module_version": "1.5.0",
            "_model_name": "HTMLModel",
            "_view_count": null,
            "_view_module": "@jupyter-widgets/controls",
            "_view_module_version": "1.5.0",
            "_view_name": "HTMLView",
            "description": "",
            "description_tooltip": null,
            "layout": "IPY_MODEL_eead34da481d4627b3c18fb919bc9b3b",
            "placeholder": "​",
            "style": "IPY_MODEL_feba532a0ccc4c3a848431eedbee36f3",
            "value": "vocab.txt: 100%"
          }
        },
        "2bebe592ba7045ea9b4895580cf0d6d3": {
          "model_module": "@jupyter-widgets/controls",
          "model_name": "FloatProgressModel",
          "model_module_version": "1.5.0",
          "state": {
            "_dom_classes": [],
            "_model_module": "@jupyter-widgets/controls",
            "_model_module_version": "1.5.0",
            "_model_name": "FloatProgressModel",
            "_view_count": null,
            "_view_module": "@jupyter-widgets/controls",
            "_view_module_version": "1.5.0",
            "_view_name": "ProgressView",
            "bar_style": "success",
            "description": "",
            "description_tooltip": null,
            "layout": "IPY_MODEL_963c623c2d52484789d6eaecd5d18c56",
            "max": 231508,
            "min": 0,
            "orientation": "horizontal",
            "style": "IPY_MODEL_71b886d5c9224276be34035085a2cbe0",
            "value": 231508
          }
        },
        "154295fdc2da496f80ebd71a8582b9d4": {
          "model_module": "@jupyter-widgets/controls",
          "model_name": "HTMLModel",
          "model_module_version": "1.5.0",
          "state": {
            "_dom_classes": [],
            "_model_module": "@jupyter-widgets/controls",
            "_model_module_version": "1.5.0",
            "_model_name": "HTMLModel",
            "_view_count": null,
            "_view_module": "@jupyter-widgets/controls",
            "_view_module_version": "1.5.0",
            "_view_name": "HTMLView",
            "description": "",
            "description_tooltip": null,
            "layout": "IPY_MODEL_fdccba4324054d09b7d752be95c4785d",
            "placeholder": "​",
            "style": "IPY_MODEL_6e7025a1dc3a438e83c42fffdc79700a",
            "value": " 232k/232k [00:00&lt;00:00, 7.35MB/s]"
          }
        },
        "bbc1b3df90d441d5a024c1fdd5eb1c8c": {
          "model_module": "@jupyter-widgets/base",
          "model_name": "LayoutModel",
          "model_module_version": "1.2.0",
          "state": {
            "_model_module": "@jupyter-widgets/base",
            "_model_module_version": "1.2.0",
            "_model_name": "LayoutModel",
            "_view_count": null,
            "_view_module": "@jupyter-widgets/base",
            "_view_module_version": "1.2.0",
            "_view_name": "LayoutView",
            "align_content": null,
            "align_items": null,
            "align_self": null,
            "border": null,
            "bottom": null,
            "display": null,
            "flex": null,
            "flex_flow": null,
            "grid_area": null,
            "grid_auto_columns": null,
            "grid_auto_flow": null,
            "grid_auto_rows": null,
            "grid_column": null,
            "grid_gap": null,
            "grid_row": null,
            "grid_template_areas": null,
            "grid_template_columns": null,
            "grid_template_rows": null,
            "height": null,
            "justify_content": null,
            "justify_items": null,
            "left": null,
            "margin": null,
            "max_height": null,
            "max_width": null,
            "min_height": null,
            "min_width": null,
            "object_fit": null,
            "object_position": null,
            "order": null,
            "overflow": null,
            "overflow_x": null,
            "overflow_y": null,
            "padding": null,
            "right": null,
            "top": null,
            "visibility": null,
            "width": null
          }
        },
        "eead34da481d4627b3c18fb919bc9b3b": {
          "model_module": "@jupyter-widgets/base",
          "model_name": "LayoutModel",
          "model_module_version": "1.2.0",
          "state": {
            "_model_module": "@jupyter-widgets/base",
            "_model_module_version": "1.2.0",
            "_model_name": "LayoutModel",
            "_view_count": null,
            "_view_module": "@jupyter-widgets/base",
            "_view_module_version": "1.2.0",
            "_view_name": "LayoutView",
            "align_content": null,
            "align_items": null,
            "align_self": null,
            "border": null,
            "bottom": null,
            "display": null,
            "flex": null,
            "flex_flow": null,
            "grid_area": null,
            "grid_auto_columns": null,
            "grid_auto_flow": null,
            "grid_auto_rows": null,
            "grid_column": null,
            "grid_gap": null,
            "grid_row": null,
            "grid_template_areas": null,
            "grid_template_columns": null,
            "grid_template_rows": null,
            "height": null,
            "justify_content": null,
            "justify_items": null,
            "left": null,
            "margin": null,
            "max_height": null,
            "max_width": null,
            "min_height": null,
            "min_width": null,
            "object_fit": null,
            "object_position": null,
            "order": null,
            "overflow": null,
            "overflow_x": null,
            "overflow_y": null,
            "padding": null,
            "right": null,
            "top": null,
            "visibility": null,
            "width": null
          }
        },
        "feba532a0ccc4c3a848431eedbee36f3": {
          "model_module": "@jupyter-widgets/controls",
          "model_name": "DescriptionStyleModel",
          "model_module_version": "1.5.0",
          "state": {
            "_model_module": "@jupyter-widgets/controls",
            "_model_module_version": "1.5.0",
            "_model_name": "DescriptionStyleModel",
            "_view_count": null,
            "_view_module": "@jupyter-widgets/base",
            "_view_module_version": "1.2.0",
            "_view_name": "StyleView",
            "description_width": ""
          }
        },
        "963c623c2d52484789d6eaecd5d18c56": {
          "model_module": "@jupyter-widgets/base",
          "model_name": "LayoutModel",
          "model_module_version": "1.2.0",
          "state": {
            "_model_module": "@jupyter-widgets/base",
            "_model_module_version": "1.2.0",
            "_model_name": "LayoutModel",
            "_view_count": null,
            "_view_module": "@jupyter-widgets/base",
            "_view_module_version": "1.2.0",
            "_view_name": "LayoutView",
            "align_content": null,
            "align_items": null,
            "align_self": null,
            "border": null,
            "bottom": null,
            "display": null,
            "flex": null,
            "flex_flow": null,
            "grid_area": null,
            "grid_auto_columns": null,
            "grid_auto_flow": null,
            "grid_auto_rows": null,
            "grid_column": null,
            "grid_gap": null,
            "grid_row": null,
            "grid_template_areas": null,
            "grid_template_columns": null,
            "grid_template_rows": null,
            "height": null,
            "justify_content": null,
            "justify_items": null,
            "left": null,
            "margin": null,
            "max_height": null,
            "max_width": null,
            "min_height": null,
            "min_width": null,
            "object_fit": null,
            "object_position": null,
            "order": null,
            "overflow": null,
            "overflow_x": null,
            "overflow_y": null,
            "padding": null,
            "right": null,
            "top": null,
            "visibility": null,
            "width": null
          }
        },
        "71b886d5c9224276be34035085a2cbe0": {
          "model_module": "@jupyter-widgets/controls",
          "model_name": "ProgressStyleModel",
          "model_module_version": "1.5.0",
          "state": {
            "_model_module": "@jupyter-widgets/controls",
            "_model_module_version": "1.5.0",
            "_model_name": "ProgressStyleModel",
            "_view_count": null,
            "_view_module": "@jupyter-widgets/base",
            "_view_module_version": "1.2.0",
            "_view_name": "StyleView",
            "bar_color": null,
            "description_width": ""
          }
        },
        "fdccba4324054d09b7d752be95c4785d": {
          "model_module": "@jupyter-widgets/base",
          "model_name": "LayoutModel",
          "model_module_version": "1.2.0",
          "state": {
            "_model_module": "@jupyter-widgets/base",
            "_model_module_version": "1.2.0",
            "_model_name": "LayoutModel",
            "_view_count": null,
            "_view_module": "@jupyter-widgets/base",
            "_view_module_version": "1.2.0",
            "_view_name": "LayoutView",
            "align_content": null,
            "align_items": null,
            "align_self": null,
            "border": null,
            "bottom": null,
            "display": null,
            "flex": null,
            "flex_flow": null,
            "grid_area": null,
            "grid_auto_columns": null,
            "grid_auto_flow": null,
            "grid_auto_rows": null,
            "grid_column": null,
            "grid_gap": null,
            "grid_row": null,
            "grid_template_areas": null,
            "grid_template_columns": null,
            "grid_template_rows": null,
            "height": null,
            "justify_content": null,
            "justify_items": null,
            "left": null,
            "margin": null,
            "max_height": null,
            "max_width": null,
            "min_height": null,
            "min_width": null,
            "object_fit": null,
            "object_position": null,
            "order": null,
            "overflow": null,
            "overflow_x": null,
            "overflow_y": null,
            "padding": null,
            "right": null,
            "top": null,
            "visibility": null,
            "width": null
          }
        },
        "6e7025a1dc3a438e83c42fffdc79700a": {
          "model_module": "@jupyter-widgets/controls",
          "model_name": "DescriptionStyleModel",
          "model_module_version": "1.5.0",
          "state": {
            "_model_module": "@jupyter-widgets/controls",
            "_model_module_version": "1.5.0",
            "_model_name": "DescriptionStyleModel",
            "_view_count": null,
            "_view_module": "@jupyter-widgets/base",
            "_view_module_version": "1.2.0",
            "_view_name": "StyleView",
            "description_width": ""
          }
        },
        "9e03485b508d4d02bb1b46cb3f39e1b0": {
          "model_module": "@jupyter-widgets/controls",
          "model_name": "HBoxModel",
          "model_module_version": "1.5.0",
          "state": {
            "_dom_classes": [],
            "_model_module": "@jupyter-widgets/controls",
            "_model_module_version": "1.5.0",
            "_model_name": "HBoxModel",
            "_view_count": null,
            "_view_module": "@jupyter-widgets/controls",
            "_view_module_version": "1.5.0",
            "_view_name": "HBoxView",
            "box_style": "",
            "children": [
              "IPY_MODEL_d90bcfd9c0d242f1b3bdae31e052a4dd",
              "IPY_MODEL_2aa8fdc90cea4b3298a4ab8c9c622498",
              "IPY_MODEL_108394c0259c4295947e2cb6f4609e7d"
            ],
            "layout": "IPY_MODEL_b0386aef76264ac69b44397ca6fa1502"
          }
        },
        "d90bcfd9c0d242f1b3bdae31e052a4dd": {
          "model_module": "@jupyter-widgets/controls",
          "model_name": "HTMLModel",
          "model_module_version": "1.5.0",
          "state": {
            "_dom_classes": [],
            "_model_module": "@jupyter-widgets/controls",
            "_model_module_version": "1.5.0",
            "_model_name": "HTMLModel",
            "_view_count": null,
            "_view_module": "@jupyter-widgets/controls",
            "_view_module_version": "1.5.0",
            "_view_name": "HTMLView",
            "description": "",
            "description_tooltip": null,
            "layout": "IPY_MODEL_84f0158074794684a7227bb212a73064",
            "placeholder": "​",
            "style": "IPY_MODEL_abc2bc7e9f254ccd81e25e1cf658332d",
            "value": "tokenizer.json: 100%"
          }
        },
        "2aa8fdc90cea4b3298a4ab8c9c622498": {
          "model_module": "@jupyter-widgets/controls",
          "model_name": "FloatProgressModel",
          "model_module_version": "1.5.0",
          "state": {
            "_dom_classes": [],
            "_model_module": "@jupyter-widgets/controls",
            "_model_module_version": "1.5.0",
            "_model_name": "FloatProgressModel",
            "_view_count": null,
            "_view_module": "@jupyter-widgets/controls",
            "_view_module_version": "1.5.0",
            "_view_name": "ProgressView",
            "bar_style": "success",
            "description": "",
            "description_tooltip": null,
            "layout": "IPY_MODEL_8a5b4da0eb75415e9352ebcfb6abc7b8",
            "max": 466062,
            "min": 0,
            "orientation": "horizontal",
            "style": "IPY_MODEL_707284b9748742a898b95c780452b679",
            "value": 466062
          }
        },
        "108394c0259c4295947e2cb6f4609e7d": {
          "model_module": "@jupyter-widgets/controls",
          "model_name": "HTMLModel",
          "model_module_version": "1.5.0",
          "state": {
            "_dom_classes": [],
            "_model_module": "@jupyter-widgets/controls",
            "_model_module_version": "1.5.0",
            "_model_name": "HTMLModel",
            "_view_count": null,
            "_view_module": "@jupyter-widgets/controls",
            "_view_module_version": "1.5.0",
            "_view_name": "HTMLView",
            "description": "",
            "description_tooltip": null,
            "layout": "IPY_MODEL_31df37dfa7194056be4ce528a7a782b7",
            "placeholder": "​",
            "style": "IPY_MODEL_f2d7115ac67d444dbb57c7ea54a35952",
            "value": " 466k/466k [00:00&lt;00:00, 26.9MB/s]"
          }
        },
        "b0386aef76264ac69b44397ca6fa1502": {
          "model_module": "@jupyter-widgets/base",
          "model_name": "LayoutModel",
          "model_module_version": "1.2.0",
          "state": {
            "_model_module": "@jupyter-widgets/base",
            "_model_module_version": "1.2.0",
            "_model_name": "LayoutModel",
            "_view_count": null,
            "_view_module": "@jupyter-widgets/base",
            "_view_module_version": "1.2.0",
            "_view_name": "LayoutView",
            "align_content": null,
            "align_items": null,
            "align_self": null,
            "border": null,
            "bottom": null,
            "display": null,
            "flex": null,
            "flex_flow": null,
            "grid_area": null,
            "grid_auto_columns": null,
            "grid_auto_flow": null,
            "grid_auto_rows": null,
            "grid_column": null,
            "grid_gap": null,
            "grid_row": null,
            "grid_template_areas": null,
            "grid_template_columns": null,
            "grid_template_rows": null,
            "height": null,
            "justify_content": null,
            "justify_items": null,
            "left": null,
            "margin": null,
            "max_height": null,
            "max_width": null,
            "min_height": null,
            "min_width": null,
            "object_fit": null,
            "object_position": null,
            "order": null,
            "overflow": null,
            "overflow_x": null,
            "overflow_y": null,
            "padding": null,
            "right": null,
            "top": null,
            "visibility": null,
            "width": null
          }
        },
        "84f0158074794684a7227bb212a73064": {
          "model_module": "@jupyter-widgets/base",
          "model_name": "LayoutModel",
          "model_module_version": "1.2.0",
          "state": {
            "_model_module": "@jupyter-widgets/base",
            "_model_module_version": "1.2.0",
            "_model_name": "LayoutModel",
            "_view_count": null,
            "_view_module": "@jupyter-widgets/base",
            "_view_module_version": "1.2.0",
            "_view_name": "LayoutView",
            "align_content": null,
            "align_items": null,
            "align_self": null,
            "border": null,
            "bottom": null,
            "display": null,
            "flex": null,
            "flex_flow": null,
            "grid_area": null,
            "grid_auto_columns": null,
            "grid_auto_flow": null,
            "grid_auto_rows": null,
            "grid_column": null,
            "grid_gap": null,
            "grid_row": null,
            "grid_template_areas": null,
            "grid_template_columns": null,
            "grid_template_rows": null,
            "height": null,
            "justify_content": null,
            "justify_items": null,
            "left": null,
            "margin": null,
            "max_height": null,
            "max_width": null,
            "min_height": null,
            "min_width": null,
            "object_fit": null,
            "object_position": null,
            "order": null,
            "overflow": null,
            "overflow_x": null,
            "overflow_y": null,
            "padding": null,
            "right": null,
            "top": null,
            "visibility": null,
            "width": null
          }
        },
        "abc2bc7e9f254ccd81e25e1cf658332d": {
          "model_module": "@jupyter-widgets/controls",
          "model_name": "DescriptionStyleModel",
          "model_module_version": "1.5.0",
          "state": {
            "_model_module": "@jupyter-widgets/controls",
            "_model_module_version": "1.5.0",
            "_model_name": "DescriptionStyleModel",
            "_view_count": null,
            "_view_module": "@jupyter-widgets/base",
            "_view_module_version": "1.2.0",
            "_view_name": "StyleView",
            "description_width": ""
          }
        },
        "8a5b4da0eb75415e9352ebcfb6abc7b8": {
          "model_module": "@jupyter-widgets/base",
          "model_name": "LayoutModel",
          "model_module_version": "1.2.0",
          "state": {
            "_model_module": "@jupyter-widgets/base",
            "_model_module_version": "1.2.0",
            "_model_name": "LayoutModel",
            "_view_count": null,
            "_view_module": "@jupyter-widgets/base",
            "_view_module_version": "1.2.0",
            "_view_name": "LayoutView",
            "align_content": null,
            "align_items": null,
            "align_self": null,
            "border": null,
            "bottom": null,
            "display": null,
            "flex": null,
            "flex_flow": null,
            "grid_area": null,
            "grid_auto_columns": null,
            "grid_auto_flow": null,
            "grid_auto_rows": null,
            "grid_column": null,
            "grid_gap": null,
            "grid_row": null,
            "grid_template_areas": null,
            "grid_template_columns": null,
            "grid_template_rows": null,
            "height": null,
            "justify_content": null,
            "justify_items": null,
            "left": null,
            "margin": null,
            "max_height": null,
            "max_width": null,
            "min_height": null,
            "min_width": null,
            "object_fit": null,
            "object_position": null,
            "order": null,
            "overflow": null,
            "overflow_x": null,
            "overflow_y": null,
            "padding": null,
            "right": null,
            "top": null,
            "visibility": null,
            "width": null
          }
        },
        "707284b9748742a898b95c780452b679": {
          "model_module": "@jupyter-widgets/controls",
          "model_name": "ProgressStyleModel",
          "model_module_version": "1.5.0",
          "state": {
            "_model_module": "@jupyter-widgets/controls",
            "_model_module_version": "1.5.0",
            "_model_name": "ProgressStyleModel",
            "_view_count": null,
            "_view_module": "@jupyter-widgets/base",
            "_view_module_version": "1.2.0",
            "_view_name": "StyleView",
            "bar_color": null,
            "description_width": ""
          }
        },
        "31df37dfa7194056be4ce528a7a782b7": {
          "model_module": "@jupyter-widgets/base",
          "model_name": "LayoutModel",
          "model_module_version": "1.2.0",
          "state": {
            "_model_module": "@jupyter-widgets/base",
            "_model_module_version": "1.2.0",
            "_model_name": "LayoutModel",
            "_view_count": null,
            "_view_module": "@jupyter-widgets/base",
            "_view_module_version": "1.2.0",
            "_view_name": "LayoutView",
            "align_content": null,
            "align_items": null,
            "align_self": null,
            "border": null,
            "bottom": null,
            "display": null,
            "flex": null,
            "flex_flow": null,
            "grid_area": null,
            "grid_auto_columns": null,
            "grid_auto_flow": null,
            "grid_auto_rows": null,
            "grid_column": null,
            "grid_gap": null,
            "grid_row": null,
            "grid_template_areas": null,
            "grid_template_columns": null,
            "grid_template_rows": null,
            "height": null,
            "justify_content": null,
            "justify_items": null,
            "left": null,
            "margin": null,
            "max_height": null,
            "max_width": null,
            "min_height": null,
            "min_width": null,
            "object_fit": null,
            "object_position": null,
            "order": null,
            "overflow": null,
            "overflow_x": null,
            "overflow_y": null,
            "padding": null,
            "right": null,
            "top": null,
            "visibility": null,
            "width": null
          }
        },
        "f2d7115ac67d444dbb57c7ea54a35952": {
          "model_module": "@jupyter-widgets/controls",
          "model_name": "DescriptionStyleModel",
          "model_module_version": "1.5.0",
          "state": {
            "_model_module": "@jupyter-widgets/controls",
            "_model_module_version": "1.5.0",
            "_model_name": "DescriptionStyleModel",
            "_view_count": null,
            "_view_module": "@jupyter-widgets/base",
            "_view_module_version": "1.2.0",
            "_view_name": "StyleView",
            "description_width": ""
          }
        }
      }
    }
  },
  "cells": [
    {
      "cell_type": "markdown",
      "source": [
        "**NEWS BIAS DETECTOR**"
      ],
      "metadata": {
        "id": "CdpFzeeMBVXw"
      }
    },
    {
      "cell_type": "code",
      "execution_count": 1,
      "metadata": {
        "id": "oqxH1bVBA8oF"
      },
      "outputs": [],
      "source": [
        "import pandas as pd\n",
        "import numpy as np\n",
        "import matplotlib.pyplot as plt"
      ]
    },
    {
      "cell_type": "markdown",
      "source": [
        "**Load Data**"
      ],
      "metadata": {
        "id": "tN4JU0GODxr4"
      }
    },
    {
      "cell_type": "code",
      "source": [
        "filename = \"allsides_balanced_news_headlines-texts.csv\"\n",
        "\n",
        "import requests\n",
        "url = 'https://raw.githubusercontent.com/irgroup/Qbias/refs/heads/main/allsides_balanced_news_headlines-texts.csv'\n",
        "res = requests.get(url, allow_redirects=True)\n",
        "with open(filename,'wb') as file:\n",
        "    file.write(res.content)\n",
        "\n",
        "df = pd.read_csv(filename)\n",
        "print(\"Shape:\", df.shape)\n",
        "print(df.head(10))\n",
        "print(f\"Columns: {df.columns}\")"
      ],
      "metadata": {
        "colab": {
          "base_uri": "https://localhost:8080/"
        },
        "id": "2TmoHnbYB3Ev",
        "outputId": "0d320d14-de38-4f34-9bc4-31313d4131ab"
      },
      "execution_count": 2,
      "outputs": [
        {
          "output_type": "stream",
          "name": "stdout",
          "text": [
            "Shape: (21754, 7)\n",
            "   Unnamed: 0                                              title  \\\n",
            "0           0           Gun Violence Over Fourth of July Weekend   \n",
            "1           1           Gun Violence Over Fourth of July Weekend   \n",
            "2           2           Gun Violence Over Fourth of July Weekend   \n",
            "3           3  Yellen Warns Congress of 'Economic Recession' ...   \n",
            "4           4  Yellen Warns Congress of 'Economic Recession' ...   \n",
            "5           5  Yellen Warns Congress of 'Economic Recession' ...   \n",
            "6           6                       Night 2: Christie on Hillary   \n",
            "7           7                       Night 2: Christie on Hillary   \n",
            "8           8                       Night 2: Christie on Hillary   \n",
            "9           9  Denying Abortion Medication Could Violate Civi...   \n",
            "\n",
            "                                                tags  \\\n",
            "0  ['Protests', 'Fourth Of July', 'Gun Control An...   \n",
            "1  ['Protests', 'Fourth Of July', 'Gun Control An...   \n",
            "2  ['Protests', 'Fourth Of July', 'Gun Control An...   \n",
            "3  ['Janet Yellen', 'Debt Ceiling', 'Economic Pol...   \n",
            "4  ['Janet Yellen', 'Debt Ceiling', 'Economic Pol...   \n",
            "5  ['Janet Yellen', 'Debt Ceiling', 'Economic Pol...   \n",
            "6                   ['Republican Party', 'Politics']   \n",
            "7                   ['Republican Party', 'Politics']   \n",
            "8                   ['Republican Party', 'Politics']   \n",
            "9  ['Abortion', 'Pharmacies', 'Abortion Pills', '...   \n",
            "\n",
            "                                             heading                  source  \\\n",
            "0  Chicago Gun Violence Spikes and Increasingly F...   New York Times (News)   \n",
            "1  ‘Bullets just came from nowhere’: Fourth of Ju...         Chicago Tribune   \n",
            "2  Dozens of shootings across US mark bloody July...    New York Post (News)   \n",
            "3  Federal Government Will Run Out of Cash on Oct...         The Epoch Times   \n",
            "4  Yellen tells Congress that U.S. will run out o...         Washington Post   \n",
            "5  Yellen warns lawmakers U.S. Treasury to hit de...                 Reuters   \n",
            "6  Washed-Up Chris Christie Rips Into Hillary Cli...             Daily Beast   \n",
            "7  Christie convicts Clinton, but was he 'guilty'...  Fox News (Online News)   \n",
            "8  Anti-Clinton Republican National Convention Cr...                HuffPost   \n",
            "9  Biden admin to pharmacies: Refusing to fill co...                Politico   \n",
            "\n",
            "                                                text bias_rating  \n",
            "0  As Yasmin Miller drove home from a laundromat ...        left  \n",
            "1  As many Chicagoans were celebrating the Fourth...      center  \n",
            "2  The nation’s 4th of July weekend was marred by...       right  \n",
            "3  Treasury Secretary Janet Yellen on Tuesday war...       right  \n",
            "4  Treasury Secretary Janet Yellen on Tuesday tol...        left  \n",
            "5  U.S. Treasury Secretary Janet Yellen on Tuesda...      center  \n",
            "6  It was surely different from 2012.\\nBack then,...        left  \n",
            "7  Chris Christie wasn’t the only one prosecuting...       right  \n",
            "8  The crowd at the 2016 Republican National Conv...        left  \n",
            "9  Senior Biden administration officials announce...        left  \n",
            "Columns: Index(['Unnamed: 0', 'title', 'tags', 'heading', 'source', 'text',\n",
            "       'bias_rating'],\n",
            "      dtype='object')\n"
          ]
        }
      ]
    },
    {
      "cell_type": "markdown",
      "source": [
        "**Drop 'Unnamed: 0' column and reset index**"
      ],
      "metadata": {
        "id": "FE5DVEgmD5fX"
      }
    },
    {
      "cell_type": "code",
      "source": [
        "df.drop(columns= [\"Unnamed: 0\"], inplace = True)\n",
        "df.reset_index(drop = True, inplace = True)\n",
        "print(df.columns)"
      ],
      "metadata": {
        "colab": {
          "base_uri": "https://localhost:8080/"
        },
        "id": "DKzAkVVMCJUM",
        "outputId": "461a0c9d-3dc3-42b5-af88-9ccdc3a7b6d9"
      },
      "execution_count": 3,
      "outputs": [
        {
          "output_type": "stream",
          "name": "stdout",
          "text": [
            "Index(['title', 'tags', 'heading', 'source', 'text', 'bias_rating'], dtype='object')\n"
          ]
        }
      ]
    },
    {
      "cell_type": "code",
      "source": [
        "print(df.head())"
      ],
      "metadata": {
        "colab": {
          "base_uri": "https://localhost:8080/"
        },
        "id": "ywWso0KoCK8z",
        "outputId": "483ce322-fa71-4f6c-d131-70f2c22597bb"
      },
      "execution_count": 4,
      "outputs": [
        {
          "output_type": "stream",
          "name": "stdout",
          "text": [
            "                                               title  \\\n",
            "0           Gun Violence Over Fourth of July Weekend   \n",
            "1           Gun Violence Over Fourth of July Weekend   \n",
            "2           Gun Violence Over Fourth of July Weekend   \n",
            "3  Yellen Warns Congress of 'Economic Recession' ...   \n",
            "4  Yellen Warns Congress of 'Economic Recession' ...   \n",
            "\n",
            "                                                tags  \\\n",
            "0  ['Protests', 'Fourth Of July', 'Gun Control An...   \n",
            "1  ['Protests', 'Fourth Of July', 'Gun Control An...   \n",
            "2  ['Protests', 'Fourth Of July', 'Gun Control An...   \n",
            "3  ['Janet Yellen', 'Debt Ceiling', 'Economic Pol...   \n",
            "4  ['Janet Yellen', 'Debt Ceiling', 'Economic Pol...   \n",
            "\n",
            "                                             heading                 source  \\\n",
            "0  Chicago Gun Violence Spikes and Increasingly F...  New York Times (News)   \n",
            "1  ‘Bullets just came from nowhere’: Fourth of Ju...        Chicago Tribune   \n",
            "2  Dozens of shootings across US mark bloody July...   New York Post (News)   \n",
            "3  Federal Government Will Run Out of Cash on Oct...        The Epoch Times   \n",
            "4  Yellen tells Congress that U.S. will run out o...        Washington Post   \n",
            "\n",
            "                                                text bias_rating  \n",
            "0  As Yasmin Miller drove home from a laundromat ...        left  \n",
            "1  As many Chicagoans were celebrating the Fourth...      center  \n",
            "2  The nation’s 4th of July weekend was marred by...       right  \n",
            "3  Treasury Secretary Janet Yellen on Tuesday war...       right  \n",
            "4  Treasury Secretary Janet Yellen on Tuesday tol...        left  \n"
          ]
        }
      ]
    },
    {
      "cell_type": "markdown",
      "source": [
        "**Data Exploration**"
      ],
      "metadata": {
        "id": "6euwtPJbD_Mt"
      }
    },
    {
      "cell_type": "code",
      "source": [
        "# Explore number of labeled articles in each bucket\n",
        "left_df = df[df[\"bias_rating\"] == \"left\"]\n",
        "right_df = df[df[\"bias_rating\"] == \"right\"]\n",
        "center_df = df[df[\"bias_rating\"] == \"center\"]\n",
        "\n",
        "print(f\"Left: {left_df.shape}\")\n",
        "print(f\"Right: {right_df.shape}\")\n",
        "print(f\"Center: {center_df.shape}\")"
      ],
      "metadata": {
        "colab": {
          "base_uri": "https://localhost:8080/"
        },
        "id": "AyUYvaGVEhKI",
        "outputId": "57075e2c-1f7d-4dd7-d8a9-fc69474c7897"
      },
      "execution_count": 5,
      "outputs": [
        {
          "output_type": "stream",
          "name": "stdout",
          "text": [
            "Left: (10275, 6)\n",
            "Right: (7226, 6)\n",
            "Center: (4253, 6)\n"
          ]
        }
      ]
    },
    {
      "cell_type": "code",
      "source": [
        "# Explore word counts across articles\n",
        "left_word_count = sum(left_df[\"text\"].fillna(\"\").str.split().apply(len))\n",
        "right_word_count = sum(right_df[\"text\"].fillna(\"\").str.split().apply(len))\n",
        "center_word_count = sum(center_df[\"text\"].fillna(\"\").str.split().apply(len))\n",
        "\n",
        "print(\"Left Leaning Articles Word Count:\", left_word_count)\n",
        "print(\"Right Leaning Articles Word Count:\", right_word_count)\n",
        "print(\"Center Leaning Articles Word Count:\", center_word_count)"
      ],
      "metadata": {
        "colab": {
          "base_uri": "https://localhost:8080/"
        },
        "id": "Tg02A2mrE1Cw",
        "outputId": "03a3927f-6158-4c63-a9ce-f487a0460223"
      },
      "execution_count": 6,
      "outputs": [
        {
          "output_type": "stream",
          "name": "stdout",
          "text": [
            "Left Leaning Articles Word Count: 658761\n",
            "Right Leaning Articles Word Count: 481681\n",
            "Center Leaning Articles Word Count: 301266\n"
          ]
        }
      ]
    },
    {
      "cell_type": "markdown",
      "source": [
        "There is a discrepancy in the total word count of the articles labeled left, right, and center"
      ],
      "metadata": {
        "id": "Y8OO_T3UGTjW"
      }
    },
    {
      "cell_type": "code",
      "source": [
        "# Explore tag lengths across articles\n",
        "left_tags_count = sum(left_df[\"tags\"].fillna(\"\").str.split(\",\").apply(len))\n",
        "right_tags_count = sum(right_df[\"tags\"].fillna(\"\").str.split(\",\").apply(len))\n",
        "center_tags_count = sum(center_df[\"tags\"].fillna(\"\").str.split(\",\").apply(len))\n",
        "\n",
        "print(\"Left Leaning Articles Tags Count:\", left_tags_count)\n",
        "print(\"Right Leaning Articles Tags Count:\", right_tags_count)\n",
        "print(\"Center Leaning Articles Tags Count:\", center_tags_count)"
      ],
      "metadata": {
        "colab": {
          "base_uri": "https://localhost:8080/"
        },
        "id": "YF6iMV0DFf1R",
        "outputId": "7c5a4724-a3ee-4b41-c7b3-7ee23e68f13f"
      },
      "execution_count": 7,
      "outputs": [
        {
          "output_type": "stream",
          "name": "stdout",
          "text": [
            "Left Leaning Articles Tags Count: 35898\n",
            "Right Leaning Articles Tags Count: 27676\n",
            "Center Leaning Articles Tags Count: 19801\n"
          ]
        }
      ]
    },
    {
      "cell_type": "markdown",
      "source": [
        "Tags counts are closer"
      ],
      "metadata": {
        "id": "fJ_U8wlAG0y4"
      }
    },
    {
      "cell_type": "markdown",
      "source": [
        "**Data Preparation**"
      ],
      "metadata": {
        "id": "rgb06eQ4FjfG"
      }
    },
    {
      "cell_type": "code",
      "source": [
        "# Convert words to lowercase in all columns\n",
        "df = df.map(lambda x: x.lower() if isinstance(x, str) else x)\n",
        "print(df.head())"
      ],
      "metadata": {
        "colab": {
          "base_uri": "https://localhost:8080/"
        },
        "id": "z-nFEhKYDlJ0",
        "outputId": "548c1dca-6c3d-4b68-fdb6-3220cdde466a"
      },
      "execution_count": 8,
      "outputs": [
        {
          "output_type": "stream",
          "name": "stdout",
          "text": [
            "                                               title  \\\n",
            "0           gun violence over fourth of july weekend   \n",
            "1           gun violence over fourth of july weekend   \n",
            "2           gun violence over fourth of july weekend   \n",
            "3  yellen warns congress of 'economic recession' ...   \n",
            "4  yellen warns congress of 'economic recession' ...   \n",
            "\n",
            "                                                tags  \\\n",
            "0  ['protests', 'fourth of july', 'gun control an...   \n",
            "1  ['protests', 'fourth of july', 'gun control an...   \n",
            "2  ['protests', 'fourth of july', 'gun control an...   \n",
            "3  ['janet yellen', 'debt ceiling', 'economic pol...   \n",
            "4  ['janet yellen', 'debt ceiling', 'economic pol...   \n",
            "\n",
            "                                             heading                 source  \\\n",
            "0  chicago gun violence spikes and increasingly f...  new york times (news)   \n",
            "1  ‘bullets just came from nowhere’: fourth of ju...        chicago tribune   \n",
            "2  dozens of shootings across us mark bloody july...   new york post (news)   \n",
            "3  federal government will run out of cash on oct...        the epoch times   \n",
            "4  yellen tells congress that u.s. will run out o...        washington post   \n",
            "\n",
            "                                                text bias_rating  \n",
            "0  as yasmin miller drove home from a laundromat ...        left  \n",
            "1  as many chicagoans were celebrating the fourth...      center  \n",
            "2  the nation’s 4th of july weekend was marred by...       right  \n",
            "3  treasury secretary janet yellen on tuesday war...       right  \n",
            "4  treasury secretary janet yellen on tuesday tol...        left  \n"
          ]
        }
      ]
    },
    {
      "cell_type": "code",
      "source": [
        "# Shuffle df and split into X and Y\n",
        "# all_indices = np.arange(df.shape[0])\n",
        "# np.random.shuffle(all_indices)\n",
        "\n",
        "# test_size = int(0.2 * df.shape[0])\n",
        "# validation_size = int(0.1 * df.shape[0])\n",
        "\n",
        "# test_indices = all_indices[: test_size]\n",
        "# validation_indices = all_indices[test_size: test_size + validation_size]\n",
        "# train_indices = all_indices[test_size + validation_size: ]\n",
        "\n",
        "# X_train = df.iloc[train_indices].drop(columns = [\"bias_rating\"]).reset_index(drop = True)\n",
        "# X_validation = df.iloc[validation_indices].drop(columns = [\"bias_rating\"]).reset_index(drop = True)\n",
        "# X_test = df.iloc[test_indices].drop(columns = [\"bias_rating\"]).reset_index(drop = True)\n",
        "\n",
        "# y_train = df.iloc[train_indices][\"bias_rating\"].reset_index(drop = True)\n",
        "# y_validation = df.iloc[validation_indices][\"bias_rating\"].reset_index(drop = True)\n",
        "# y_test = df.iloc[test_indices][\"bias_rating\"].reset_index(drop = True)\n",
        "\n",
        "# print(f\"X_train shape: {X_train.shape}\")\n",
        "# print(f\"X_validation shape: {X_validation.shape}\")\n",
        "# print(f\"X_test shape: {X_test.shape}\")\n",
        "# print(f\"y_train shape: {y_train.shape}\")\n",
        "# print(f\"y_validation shape: {y_validation.shape}\")\n",
        "# print(f\"y_test shape: {y_test.shape}\")\n",
        "\n",
        "# print(X_train.head())\n",
        "# print(y_train.head())"
      ],
      "metadata": {
        "id": "jy8XlaZtKBHs"
      },
      "execution_count": 9,
      "outputs": []
    },
    {
      "cell_type": "code",
      "source": [
        "# Shuffle df and split into X and Y\n",
        "df = df.sample(frac = 1)\n",
        "X = df[['title', 'heading', 'text']]\n",
        "y = df[\"bias_rating\"]\n",
        "print(X.head())\n",
        "print(y.head())"
      ],
      "metadata": {
        "colab": {
          "base_uri": "https://localhost:8080/"
        },
        "id": "VU1Ook-LtI_e",
        "outputId": "a47f4154-cd58-4e48-fdc5-0e078aedb38c"
      },
      "execution_count": 10,
      "outputs": [
        {
          "output_type": "stream",
          "name": "stdout",
          "text": [
            "                                                   title  \\\n",
            "502                      manhunt follows church shooting   \n",
            "13629                               trump speaks at cpac   \n",
            "9254   sanders campaign organizer filmed threatening ...   \n",
            "1826                              hurricane and politics   \n",
            "4347                major offensive planned against isis   \n",
            "\n",
            "                                                 heading  \\\n",
            "502    manhunt follows attack on historic black south...   \n",
            "13629  trump stages gop comeback at cpac by refusing ...   \n",
            "9254   bernie sanders aides lock twitter accounts aft...   \n",
            "1826   romney stays in public eye minus political tal...   \n",
            "4347   obama administration gives isis the playbook o...   \n",
            "\n",
            "                                                    text  \n",
            "502    police in charleston, south carolina, were sea...  \n",
            "13629  former president donald trump teased a 2024 wh...  \n",
            "9254   two iowa field directors for bernie sanders's ...  \n",
            "1826   mitt romney on tuesday attended a relief effor...  \n",
            "4347   the obama administration is under heavy critic...  \n",
            "502      center\n",
            "13629     right\n",
            "9254      right\n",
            "1826      right\n",
            "4347      right\n",
            "Name: bias_rating, dtype: object\n"
          ]
        }
      ]
    },
    {
      "cell_type": "code",
      "source": [
        "# Split into training, testing with even ratio between articles from each side (stratify)\n",
        "from sklearn.model_selection import train_test_split\n",
        "X_train, X_test, y_train, y_test = train_test_split(X, y, test_size=0.3, stratify=y, random_state=42)\n",
        "X_test, X_valid, y_test, y_valid = train_test_split(X_test, y_test, test_size=0.5, stratify=y_test, random_state=42)\n",
        "print(f\"X_train shape: {X_train.shape}\")\n",
        "print(f\"X_test shape: {X_test.shape}\")\n",
        "print(f\"X_valid shape: {X_valid.shape}\")\n",
        "print(f\"y_train shape: {y_train.shape}\")\n",
        "print(f\"y_test shape: {y_test.shape}\")\n",
        "print(f\"y_valid shape: {y_valid.shape}\")\n",
        "\n",
        "print(X_train.head(2))\n",
        "print(y_train.head(2))"
      ],
      "metadata": {
        "id": "HJnQ6u-qKY1U",
        "colab": {
          "base_uri": "https://localhost:8080/"
        },
        "outputId": "fecaa5f9-3f1d-4b60-b75a-808f982e80a4"
      },
      "execution_count": 11,
      "outputs": [
        {
          "output_type": "stream",
          "name": "stdout",
          "text": [
            "X_train shape: (15227, 3)\n",
            "X_test shape: (3263, 3)\n",
            "X_valid shape: (3264, 3)\n",
            "y_train shape: (15227,)\n",
            "y_test shape: (3263,)\n",
            "y_valid shape: (3264,)\n",
            "                                                   title  \\\n",
            "18061                             trump claims fake news   \n",
            "20635  house democrats investigate trump admin's invo...   \n",
            "\n",
            "                                                 heading  \\\n",
            "18061  equating bad polls with fake news, trump furth...   \n",
            "20635  house dems probe white house handling of saudi...   \n",
            "\n",
            "                                                    text  \n",
            "18061  it was inevitable that we would get to this po...  \n",
            "20635  top house democrats plan to investigate claims...  \n",
            "18061     left\n",
            "20635    right\n",
            "Name: bias_rating, dtype: object\n"
          ]
        }
      ]
    },
    {
      "cell_type": "markdown",
      "source": [
        "Resetting indices"
      ],
      "metadata": {
        "id": "Vnkpz1bxvrmj"
      }
    },
    {
      "cell_type": "code",
      "source": [
        "X_train = X_train.reset_index(drop = True)\n",
        "X_test = X_test.reset_index(drop = True)\n",
        "X_valid = X_valid.reset_index(drop = True)\n",
        "y_train = y_train.reset_index(drop = True)\n",
        "y_test = y_test.reset_index(drop = True)\n",
        "y_valid = y_valid.reset_index(drop = True)\n",
        "\n",
        "print(X_train.head(2))\n",
        "print(y_train.head(2))"
      ],
      "metadata": {
        "colab": {
          "base_uri": "https://localhost:8080/"
        },
        "id": "_A24a_owvTHH",
        "outputId": "f9638e6c-6343-4147-8cc0-c7acf8eb690b"
      },
      "execution_count": 12,
      "outputs": [
        {
          "output_type": "stream",
          "name": "stdout",
          "text": [
            "                                               title  \\\n",
            "0                             trump claims fake news   \n",
            "1  house democrats investigate trump admin's invo...   \n",
            "\n",
            "                                             heading  \\\n",
            "0  equating bad polls with fake news, trump furth...   \n",
            "1  house dems probe white house handling of saudi...   \n",
            "\n",
            "                                                text  \n",
            "0  it was inevitable that we would get to this po...  \n",
            "1  top house democrats plan to investigate claims...  \n",
            "0     left\n",
            "1    right\n",
            "Name: bias_rating, dtype: object\n"
          ]
        }
      ]
    },
    {
      "cell_type": "markdown",
      "source": [
        "**Setting up for MS2**"
      ],
      "metadata": {
        "id": "IGcLqjcmKT5t"
      }
    },
    {
      "cell_type": "code",
      "source": [
        "import tensorflow as tf\n",
        "import huggingface_hub\n",
        "from transformers import AutoTokenizer"
      ],
      "metadata": {
        "id": "6dwDwSxBGwla"
      },
      "execution_count": 13,
      "outputs": []
    },
    {
      "cell_type": "code",
      "source": [
        "model = \"bert-base-uncased\"\n",
        "tokenizer = AutoTokenizer.from_pretrained(model)\n"
      ],
      "metadata": {
        "id": "5oJ7-cy7HSU-",
        "colab": {
          "base_uri": "https://localhost:8080/",
          "height": 267,
          "referenced_widgets": [
            "59d9e75dad794e7887b735670348c0ef",
            "8c7ddfda83ac46d081d0e13eae24d20a",
            "6ca98ca9df8446008eb7a33e6eb4de52",
            "b234ab96110f483a836c238a6be0f343",
            "2bf8f42634cc4f8d95ec7e70a1e90abc",
            "f24ff6ae82bc429186922c6be47a95af",
            "d5fb8135af944cde8a4ee45a94027ed8",
            "e5f05139b15f49e2ae42ff3310f383a5",
            "77312955e4d4405bafae8f46d8219c26",
            "2d3f4c8c8a4b4ab1874c0ab2bd34c088",
            "62bdfd91888346d5a0c0a2b270152f29",
            "68ffcbc44f324d5ea09f0b2db42e7682",
            "f1722a0d65fd4f6bb48c5ebb425e25d4",
            "9139a0866eb04a46bde1bbeb2ef1e0c5",
            "1640231a668241f398bb9aa4971f52b5",
            "88e749fbdb2c433c81aefe28efc9c0a4",
            "7854485533d04e76bf695d104a0bce8a",
            "8e711899be56442d9bb0a747767b4308",
            "2478aa217fac494e9629ef481ea4d345",
            "9cd775d22e714cae8c3fcb345b03e8f2",
            "f7e78984dc9e4b5aa276e44f6bb7589d",
            "7f6553fe4e19426f93c336d3f260138d",
            "22bce1e0fcd14b099f959f6ebe74933e",
            "185e1b2c97864b1988a4d8eea3058107",
            "2bebe592ba7045ea9b4895580cf0d6d3",
            "154295fdc2da496f80ebd71a8582b9d4",
            "bbc1b3df90d441d5a024c1fdd5eb1c8c",
            "eead34da481d4627b3c18fb919bc9b3b",
            "feba532a0ccc4c3a848431eedbee36f3",
            "963c623c2d52484789d6eaecd5d18c56",
            "71b886d5c9224276be34035085a2cbe0",
            "fdccba4324054d09b7d752be95c4785d",
            "6e7025a1dc3a438e83c42fffdc79700a",
            "9e03485b508d4d02bb1b46cb3f39e1b0",
            "d90bcfd9c0d242f1b3bdae31e052a4dd",
            "2aa8fdc90cea4b3298a4ab8c9c622498",
            "108394c0259c4295947e2cb6f4609e7d",
            "b0386aef76264ac69b44397ca6fa1502",
            "84f0158074794684a7227bb212a73064",
            "abc2bc7e9f254ccd81e25e1cf658332d",
            "8a5b4da0eb75415e9352ebcfb6abc7b8",
            "707284b9748742a898b95c780452b679",
            "31df37dfa7194056be4ce528a7a782b7",
            "f2d7115ac67d444dbb57c7ea54a35952"
          ]
        },
        "outputId": "a54f2e63-bc4f-4ac2-890c-76a963637e0c"
      },
      "execution_count": 14,
      "outputs": [
        {
          "output_type": "stream",
          "name": "stderr",
          "text": [
            "/usr/local/lib/python3.11/dist-packages/huggingface_hub/utils/_auth.py:94: UserWarning: \n",
            "The secret `HF_TOKEN` does not exist in your Colab secrets.\n",
            "To authenticate with the Hugging Face Hub, create a token in your settings tab (https://huggingface.co/settings/tokens), set it as secret in your Google Colab and restart your session.\n",
            "You will be able to reuse this secret in all of your notebooks.\n",
            "Please note that authentication is recommended but still optional to access public models or datasets.\n",
            "  warnings.warn(\n"
          ]
        },
        {
          "output_type": "display_data",
          "data": {
            "text/plain": [
              "tokenizer_config.json:   0%|          | 0.00/48.0 [00:00<?, ?B/s]"
            ],
            "application/vnd.jupyter.widget-view+json": {
              "version_major": 2,
              "version_minor": 0,
              "model_id": "59d9e75dad794e7887b735670348c0ef"
            }
          },
          "metadata": {}
        },
        {
          "output_type": "display_data",
          "data": {
            "text/plain": [
              "config.json:   0%|          | 0.00/570 [00:00<?, ?B/s]"
            ],
            "application/vnd.jupyter.widget-view+json": {
              "version_major": 2,
              "version_minor": 0,
              "model_id": "68ffcbc44f324d5ea09f0b2db42e7682"
            }
          },
          "metadata": {}
        },
        {
          "output_type": "display_data",
          "data": {
            "text/plain": [
              "vocab.txt:   0%|          | 0.00/232k [00:00<?, ?B/s]"
            ],
            "application/vnd.jupyter.widget-view+json": {
              "version_major": 2,
              "version_minor": 0,
              "model_id": "22bce1e0fcd14b099f959f6ebe74933e"
            }
          },
          "metadata": {}
        },
        {
          "output_type": "display_data",
          "data": {
            "text/plain": [
              "tokenizer.json:   0%|          | 0.00/466k [00:00<?, ?B/s]"
            ],
            "application/vnd.jupyter.widget-view+json": {
              "version_major": 2,
              "version_minor": 0,
              "model_id": "9e03485b508d4d02bb1b46cb3f39e1b0"
            }
          },
          "metadata": {}
        }
      ]
    },
    {
      "cell_type": "code",
      "source": [
        "test_tokens = tokenizer.tokenize(X_train[\"text\"][0])\n",
        "test_token_ids = tokenizer.convert_tokens_to_ids(test_tokens)\n",
        "print(test_tokens)\n",
        "print(test_token_ids)"
      ],
      "metadata": {
        "id": "Cw_VbecNBXwT",
        "colab": {
          "base_uri": "https://localhost:8080/"
        },
        "outputId": "8f6bc619-420f-4d56-85b7-86797b26ecf9"
      },
      "execution_count": 15,
      "outputs": [
        {
          "output_type": "stream",
          "name": "stdout",
          "text": [
            "['it', 'was', 'inevitable', 'that', 'we', 'would', 'get', 'to', 'this', 'point', ',', 'given', 'the', 'two', 'years', 'that', 'preceded', 'it', '.', 'on', 'monday', 'morning', ',', 'president', 'trump', 'began', 'the', 't', '##wee', '##t', '##week', 'with', 'a', 'response', 'to', 'recent', 'polling', 'showing', 'that', 'his', 'executive', 'order', 'on', 'immigration', 'is', 'more', 'unpopular', 'than', 'it', 'is', 'popular', '.']\n",
            "[2009, 2001, 13418, 2008, 2057, 2052, 2131, 2000, 2023, 2391, 1010, 2445, 1996, 2048, 2086, 2008, 11677, 2009, 1012, 2006, 6928, 2851, 1010, 2343, 8398, 2211, 1996, 1056, 28394, 2102, 28075, 2007, 1037, 3433, 2000, 3522, 17888, 4760, 2008, 2010, 3237, 2344, 2006, 7521, 2003, 2062, 19657, 2084, 2009, 2003, 2759, 1012]\n"
          ]
        }
      ]
    }
  ]
}