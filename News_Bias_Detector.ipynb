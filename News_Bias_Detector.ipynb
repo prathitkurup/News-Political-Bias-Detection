{
  "nbformat": 4,
  "nbformat_minor": 0,
  "metadata": {
    "colab": {
      "provenance": []
    },
    "kernelspec": {
      "name": "python3",
      "display_name": "Python 3"
    },
    "language_info": {
      "name": "python"
    }
  },
  "cells": [
    {
      "cell_type": "markdown",
      "source": [
        "**NEWS BIAS DETECTOR**"
      ],
      "metadata": {
        "id": "CdpFzeeMBVXw"
      }
    },
    {
      "cell_type": "code",
      "execution_count": 62,
      "metadata": {
        "id": "oqxH1bVBA8oF"
      },
      "outputs": [],
      "source": [
        "import pandas as pd\n",
        "import numpy as np\n",
        "import matplotlib.pyplot as plt"
      ]
    },
    {
      "cell_type": "markdown",
      "source": [
        "**Load Data**"
      ],
      "metadata": {
        "id": "tN4JU0GODxr4"
      }
    },
    {
      "cell_type": "code",
      "source": [
        "filename = \"allsides_balanced_news_headlines-texts.csv\"\n",
        "\n",
        "import requests\n",
        "url = 'https://raw.githubusercontent.com/irgroup/Qbias/refs/heads/main/allsides_balanced_news_headlines-texts.csv'\n",
        "res = requests.get(url, allow_redirects=True)\n",
        "with open(filename,'wb') as file:\n",
        "    file.write(res.content)\n",
        "\n",
        "df = pd.read_csv(filename)\n",
        "print(\"Shape:\", df.shape)\n",
        "print(df.head(10))\n",
        "print(f\"Columns: {df.columns}\")"
      ],
      "metadata": {
        "colab": {
          "base_uri": "https://localhost:8080/"
        },
        "id": "2TmoHnbYB3Ev",
        "outputId": "2425af9a-a49a-472c-8d8d-b46859baef1e"
      },
      "execution_count": 63,
      "outputs": [
        {
          "output_type": "stream",
          "name": "stdout",
          "text": [
            "Shape: (21754, 7)\n",
            "   Unnamed: 0                                              title  \\\n",
            "0           0           Gun Violence Over Fourth of July Weekend   \n",
            "1           1           Gun Violence Over Fourth of July Weekend   \n",
            "2           2           Gun Violence Over Fourth of July Weekend   \n",
            "3           3  Yellen Warns Congress of 'Economic Recession' ...   \n",
            "4           4  Yellen Warns Congress of 'Economic Recession' ...   \n",
            "5           5  Yellen Warns Congress of 'Economic Recession' ...   \n",
            "6           6                       Night 2: Christie on Hillary   \n",
            "7           7                       Night 2: Christie on Hillary   \n",
            "8           8                       Night 2: Christie on Hillary   \n",
            "9           9  Denying Abortion Medication Could Violate Civi...   \n",
            "\n",
            "                                                tags  \\\n",
            "0  ['Protests', 'Fourth Of July', 'Gun Control An...   \n",
            "1  ['Protests', 'Fourth Of July', 'Gun Control An...   \n",
            "2  ['Protests', 'Fourth Of July', 'Gun Control An...   \n",
            "3  ['Janet Yellen', 'Debt Ceiling', 'Economic Pol...   \n",
            "4  ['Janet Yellen', 'Debt Ceiling', 'Economic Pol...   \n",
            "5  ['Janet Yellen', 'Debt Ceiling', 'Economic Pol...   \n",
            "6                   ['Republican Party', 'Politics']   \n",
            "7                   ['Republican Party', 'Politics']   \n",
            "8                   ['Republican Party', 'Politics']   \n",
            "9  ['Abortion', 'Pharmacies', 'Abortion Pills', '...   \n",
            "\n",
            "                                             heading                  source  \\\n",
            "0  Chicago Gun Violence Spikes and Increasingly F...   New York Times (News)   \n",
            "1  ‘Bullets just came from nowhere’: Fourth of Ju...         Chicago Tribune   \n",
            "2  Dozens of shootings across US mark bloody July...    New York Post (News)   \n",
            "3  Federal Government Will Run Out of Cash on Oct...         The Epoch Times   \n",
            "4  Yellen tells Congress that U.S. will run out o...         Washington Post   \n",
            "5  Yellen warns lawmakers U.S. Treasury to hit de...                 Reuters   \n",
            "6  Washed-Up Chris Christie Rips Into Hillary Cli...             Daily Beast   \n",
            "7  Christie convicts Clinton, but was he 'guilty'...  Fox News (Online News)   \n",
            "8  Anti-Clinton Republican National Convention Cr...                HuffPost   \n",
            "9  Biden admin to pharmacies: Refusing to fill co...                Politico   \n",
            "\n",
            "                                                text bias_rating  \n",
            "0  As Yasmin Miller drove home from a laundromat ...        left  \n",
            "1  As many Chicagoans were celebrating the Fourth...      center  \n",
            "2  The nation’s 4th of July weekend was marred by...       right  \n",
            "3  Treasury Secretary Janet Yellen on Tuesday war...       right  \n",
            "4  Treasury Secretary Janet Yellen on Tuesday tol...        left  \n",
            "5  U.S. Treasury Secretary Janet Yellen on Tuesda...      center  \n",
            "6  It was surely different from 2012.\\nBack then,...        left  \n",
            "7  Chris Christie wasn’t the only one prosecuting...       right  \n",
            "8  The crowd at the 2016 Republican National Conv...        left  \n",
            "9  Senior Biden administration officials announce...        left  \n",
            "Columns: Index(['Unnamed: 0', 'title', 'tags', 'heading', 'source', 'text',\n",
            "       'bias_rating'],\n",
            "      dtype='object')\n"
          ]
        }
      ]
    },
    {
      "cell_type": "markdown",
      "source": [
        "**Drop 'Unnamed: 0' column and reset index**"
      ],
      "metadata": {
        "id": "FE5DVEgmD5fX"
      }
    },
    {
      "cell_type": "code",
      "source": [
        "df.drop(columns= [\"Unnamed: 0\"], inplace = True)\n",
        "df.reset_index(drop = True, inplace = True)\n",
        "print(df.columns)"
      ],
      "metadata": {
        "colab": {
          "base_uri": "https://localhost:8080/"
        },
        "id": "DKzAkVVMCJUM",
        "outputId": "25c3f8fb-6e7b-4505-ad25-80349387c228"
      },
      "execution_count": 64,
      "outputs": [
        {
          "output_type": "stream",
          "name": "stdout",
          "text": [
            "Index(['title', 'tags', 'heading', 'source', 'text', 'bias_rating'], dtype='object')\n"
          ]
        }
      ]
    },
    {
      "cell_type": "code",
      "source": [
        "print(df.head())"
      ],
      "metadata": {
        "colab": {
          "base_uri": "https://localhost:8080/"
        },
        "id": "ywWso0KoCK8z",
        "outputId": "c5821ba9-38bd-4b52-9d34-cbc497308c24"
      },
      "execution_count": 65,
      "outputs": [
        {
          "output_type": "stream",
          "name": "stdout",
          "text": [
            "                                               title  \\\n",
            "0           Gun Violence Over Fourth of July Weekend   \n",
            "1           Gun Violence Over Fourth of July Weekend   \n",
            "2           Gun Violence Over Fourth of July Weekend   \n",
            "3  Yellen Warns Congress of 'Economic Recession' ...   \n",
            "4  Yellen Warns Congress of 'Economic Recession' ...   \n",
            "\n",
            "                                                tags  \\\n",
            "0  ['Protests', 'Fourth Of July', 'Gun Control An...   \n",
            "1  ['Protests', 'Fourth Of July', 'Gun Control An...   \n",
            "2  ['Protests', 'Fourth Of July', 'Gun Control An...   \n",
            "3  ['Janet Yellen', 'Debt Ceiling', 'Economic Pol...   \n",
            "4  ['Janet Yellen', 'Debt Ceiling', 'Economic Pol...   \n",
            "\n",
            "                                             heading                 source  \\\n",
            "0  Chicago Gun Violence Spikes and Increasingly F...  New York Times (News)   \n",
            "1  ‘Bullets just came from nowhere’: Fourth of Ju...        Chicago Tribune   \n",
            "2  Dozens of shootings across US mark bloody July...   New York Post (News)   \n",
            "3  Federal Government Will Run Out of Cash on Oct...        The Epoch Times   \n",
            "4  Yellen tells Congress that U.S. will run out o...        Washington Post   \n",
            "\n",
            "                                                text bias_rating  \n",
            "0  As Yasmin Miller drove home from a laundromat ...        left  \n",
            "1  As many Chicagoans were celebrating the Fourth...      center  \n",
            "2  The nation’s 4th of July weekend was marred by...       right  \n",
            "3  Treasury Secretary Janet Yellen on Tuesday war...       right  \n",
            "4  Treasury Secretary Janet Yellen on Tuesday tol...        left  \n"
          ]
        }
      ]
    },
    {
      "cell_type": "markdown",
      "source": [
        "**Data Exploration**"
      ],
      "metadata": {
        "id": "6euwtPJbD_Mt"
      }
    },
    {
      "cell_type": "code",
      "source": [
        "# Explore number of labeled articles in each bucket\n",
        "left_df = df[df[\"bias_rating\"] == \"left\"]\n",
        "right_df = df[df[\"bias_rating\"] == \"right\"]\n",
        "center_df = df[df[\"bias_rating\"] == \"center\"]\n",
        "\n",
        "print(f\"Left: {left_df.shape}\")\n",
        "print(f\"Right: {right_df.shape}\")\n",
        "print(f\"Center: {center_df.shape}\")"
      ],
      "metadata": {
        "colab": {
          "base_uri": "https://localhost:8080/"
        },
        "id": "AyUYvaGVEhKI",
        "outputId": "4c81bee8-ac5a-4c66-dec9-900fffbbd775"
      },
      "execution_count": 66,
      "outputs": [
        {
          "output_type": "stream",
          "name": "stdout",
          "text": [
            "Left: (10275, 6)\n",
            "Right: (7226, 6)\n",
            "Center: (4253, 6)\n"
          ]
        }
      ]
    },
    {
      "cell_type": "code",
      "source": [
        "# Explore word counts across articles\n",
        "left_word_count = sum(left_df[\"text\"].fillna(\"\").str.split().apply(len))\n",
        "right_word_count = sum(right_df[\"text\"].fillna(\"\").str.split().apply(len))\n",
        "center_word_count = sum(center_df[\"text\"].fillna(\"\").str.split().apply(len))\n",
        "\n",
        "print(\"Left Leaning Articles Word Count:\", left_word_count)\n",
        "print(\"Right Leaning Articles Word Count:\", right_word_count)\n",
        "print(\"Center Leaning Articles Word Count:\", center_word_count)"
      ],
      "metadata": {
        "colab": {
          "base_uri": "https://localhost:8080/"
        },
        "id": "Tg02A2mrE1Cw",
        "outputId": "7ccb236a-984b-4d6e-c2aa-b194c2b3240c"
      },
      "execution_count": 67,
      "outputs": [
        {
          "output_type": "stream",
          "name": "stdout",
          "text": [
            "Left Leaning Articles Word Count: 658761\n",
            "Right Leaning Articles Word Count: 481681\n",
            "Center Leaning Articles Word Count: 301266\n"
          ]
        }
      ]
    },
    {
      "cell_type": "markdown",
      "source": [
        "There is a discrepancy in the total word count of the articles labeled left, right, and center"
      ],
      "metadata": {
        "id": "Y8OO_T3UGTjW"
      }
    },
    {
      "cell_type": "code",
      "source": [
        "# Explore tag lengths across articles\n",
        "left_tags_count = sum(left_df[\"tags\"].fillna(\"\").str.split(\",\").apply(len))\n",
        "right_tags_count = sum(right_df[\"tags\"].fillna(\"\").str.split(\",\").apply(len))\n",
        "center_tags_count = sum(center_df[\"tags\"].fillna(\"\").str.split(\",\").apply(len))\n",
        "\n",
        "print(\"Left Leaning Articles Tags Count:\", left_tags_count)\n",
        "print(\"Right Leaning Articles Tags Count:\", right_tags_count)\n",
        "print(\"Center Leaning Articles Tags Count:\", center_tags_count)"
      ],
      "metadata": {
        "colab": {
          "base_uri": "https://localhost:8080/"
        },
        "id": "YF6iMV0DFf1R",
        "outputId": "1e465236-cea8-43b6-912e-0db4ffd77ccb"
      },
      "execution_count": 68,
      "outputs": [
        {
          "output_type": "stream",
          "name": "stdout",
          "text": [
            "Left Leaning Articles Tags Count: 35898\n",
            "Right Leaning Articles Tags Count: 27676\n",
            "Center Leaning Articles Tags Count: 19801\n"
          ]
        }
      ]
    },
    {
      "cell_type": "markdown",
      "source": [
        "Tags counts are closer"
      ],
      "metadata": {
        "id": "fJ_U8wlAG0y4"
      }
    },
    {
      "cell_type": "markdown",
      "source": [
        "**Data Preparation**"
      ],
      "metadata": {
        "id": "rgb06eQ4FjfG"
      }
    },
    {
      "cell_type": "code",
      "source": [
        "# Convert words to lowercase in all columns\n",
        "df = df.map(lambda x: x.lower() if isinstance(x, str) else x)\n",
        "print(df.head())"
      ],
      "metadata": {
        "colab": {
          "base_uri": "https://localhost:8080/"
        },
        "id": "z-nFEhKYDlJ0",
        "outputId": "e1241f0e-ca09-4ae3-b8c5-e923a2a9fce9"
      },
      "execution_count": 69,
      "outputs": [
        {
          "output_type": "stream",
          "name": "stdout",
          "text": [
            "                                               title  \\\n",
            "0           gun violence over fourth of july weekend   \n",
            "1           gun violence over fourth of july weekend   \n",
            "2           gun violence over fourth of july weekend   \n",
            "3  yellen warns congress of 'economic recession' ...   \n",
            "4  yellen warns congress of 'economic recession' ...   \n",
            "\n",
            "                                                tags  \\\n",
            "0  ['protests', 'fourth of july', 'gun control an...   \n",
            "1  ['protests', 'fourth of july', 'gun control an...   \n",
            "2  ['protests', 'fourth of july', 'gun control an...   \n",
            "3  ['janet yellen', 'debt ceiling', 'economic pol...   \n",
            "4  ['janet yellen', 'debt ceiling', 'economic pol...   \n",
            "\n",
            "                                             heading                 source  \\\n",
            "0  chicago gun violence spikes and increasingly f...  new york times (news)   \n",
            "1  ‘bullets just came from nowhere’: fourth of ju...        chicago tribune   \n",
            "2  dozens of shootings across us mark bloody july...   new york post (news)   \n",
            "3  federal government will run out of cash on oct...        the epoch times   \n",
            "4  yellen tells congress that u.s. will run out o...        washington post   \n",
            "\n",
            "                                                text bias_rating  \n",
            "0  as yasmin miller drove home from a laundromat ...        left  \n",
            "1  as many chicagoans were celebrating the fourth...      center  \n",
            "2  the nation’s 4th of july weekend was marred by...       right  \n",
            "3  treasury secretary janet yellen on tuesday war...       right  \n",
            "4  treasury secretary janet yellen on tuesday tol...        left  \n"
          ]
        }
      ]
    },
    {
      "cell_type": "code",
      "source": [
        "# Shuffle df and split into X and Y\n",
        "# all_indices = np.arange(df.shape[0])\n",
        "# np.random.shuffle(all_indices)\n",
        "\n",
        "# test_size = int(0.2 * df.shape[0])\n",
        "# validation_size = int(0.1 * df.shape[0])\n",
        "\n",
        "# test_indices = all_indices[: test_size]\n",
        "# validation_indices = all_indices[test_size: test_size + validation_size]\n",
        "# train_indices = all_indices[test_size + validation_size: ]\n",
        "\n",
        "# X_train = df.iloc[train_indices].drop(columns = [\"bias_rating\"]).reset_index(drop = True)\n",
        "# X_validation = df.iloc[validation_indices].drop(columns = [\"bias_rating\"]).reset_index(drop = True)\n",
        "# X_test = df.iloc[test_indices].drop(columns = [\"bias_rating\"]).reset_index(drop = True)\n",
        "\n",
        "# y_train = df.iloc[train_indices][\"bias_rating\"].reset_index(drop = True)\n",
        "# y_validation = df.iloc[validation_indices][\"bias_rating\"].reset_index(drop = True)\n",
        "# y_test = df.iloc[test_indices][\"bias_rating\"].reset_index(drop = True)\n",
        "\n",
        "# print(f\"X_train shape: {X_train.shape}\")\n",
        "# print(f\"X_validation shape: {X_validation.shape}\")\n",
        "# print(f\"X_test shape: {X_test.shape}\")\n",
        "# print(f\"y_train shape: {y_train.shape}\")\n",
        "# print(f\"y_validation shape: {y_validation.shape}\")\n",
        "# print(f\"y_test shape: {y_test.shape}\")\n",
        "\n",
        "# print(X_train.head())\n",
        "# print(y_train.head())"
      ],
      "metadata": {
        "id": "jy8XlaZtKBHs"
      },
      "execution_count": null,
      "outputs": []
    },
    {
      "cell_type": "code",
      "source": [
        "# Shuffle df and split into X and Y\n",
        "df = df.sample(frac = 1)\n",
        "X = df[['title', 'heading', 'text']]\n",
        "y = df[\"bias_rating\"]\n",
        "print(X.head())\n",
        "print(y.head())"
      ],
      "metadata": {
        "colab": {
          "base_uri": "https://localhost:8080/"
        },
        "id": "VU1Ook-LtI_e",
        "outputId": "53394a11-4fa5-43e7-c9d1-3fb3a29521a2"
      },
      "execution_count": 70,
      "outputs": [
        {
          "output_type": "stream",
          "name": "stdout",
          "text": [
            "                                                   title  \\\n",
            "14492   senate acquits trump in second impeachment trial   \n",
            "16612  perspectives: the supreme court and bipartisan...   \n",
            "14058                 changes to the democratic platform   \n",
            "8282                 media coverage of jobs report tweet   \n",
            "17498                               improving the budget   \n",
            "\n",
            "                                                 heading  \\\n",
            "14492  senate acquits trump in impeachment trial — again   \n",
            "16612                the supreme court’s surprising term   \n",
            "14058  clinton reaffirms support for public option in...   \n",
            "8282   kudlow on trump jobs tweet: 'i don't think he ...   \n",
            "17498  bipartisan house majority defeats senate's unb...   \n",
            "\n",
            "                                                    text  \n",
            "14492  the u.s. senate on saturday acquitted former p...  \n",
            "16612  the supreme court term that began last fall ha...  \n",
            "14058  hillary clinton reaffirmed her support on satu...  \n",
            "8282   president donald trump was briefed thursday ni...  \n",
            "17498  they39ll debate and vote on the balanced popul...  \n",
            "14492     left\n",
            "16612     left\n",
            "14058     left\n",
            "8282     right\n",
            "17498    right\n",
            "Name: bias_rating, dtype: object\n"
          ]
        }
      ]
    },
    {
      "cell_type": "code",
      "source": [
        "# Split into training, testing with even ratio between articles from each side\n",
        "from sklearn.model_selection import train_test_split\n",
        "X_train, X_test, y_train, y_test = train_test_split(X, y, test_size=0.3, stratify=y, random_state=42)\n",
        "X_test, X_valid, y_test, y_valid = train_test_split(X_test, y_test, test_size=0.5, stratify=y_test, random_state=42)\n",
        "print(f\"X_train shape: {X_train.shape}\")\n",
        "print(f\"X_test shape: {X_test.shape}\")\n",
        "print(f\"X_valid shape: {X_valid.shape}\")\n",
        "print(f\"y_train shape: {y_train.shape}\")\n",
        "print(f\"y_test shape: {y_test.shape}\")\n",
        "print(f\"y_valid shape: {y_valid.shape}\")\n",
        "\n",
        "print(X_train.head(2))\n",
        "print(y_train.head(2))"
      ],
      "metadata": {
        "id": "HJnQ6u-qKY1U",
        "colab": {
          "base_uri": "https://localhost:8080/"
        },
        "outputId": "c20060de-9378-4914-e75a-1b5c2d885673"
      },
      "execution_count": 75,
      "outputs": [
        {
          "output_type": "stream",
          "name": "stdout",
          "text": [
            "X_train shape: (15227, 3)\n",
            "X_test shape: (3263, 3)\n",
            "X_valid shape: (3264, 3)\n",
            "y_train shape: (15227,)\n",
            "y_test shape: (3263,)\n",
            "y_valid shape: (3264,)\n",
            "                         title  \\\n",
            "15083        texas voting laws   \n",
            "14395  vp debate tuesday night   \n",
            "\n",
            "                                                 heading  \\\n",
            "15083  holder now going after texas voting law in rac...   \n",
            "14395  bidenã¢â‚¬â„¢s debate aim: reclaim edge after ...   \n",
            "\n",
            "                                                    text  \n",
            "15083  there is one thing to be said about attorney g...  \n",
            "14395  with president obama looking to an unpredictab...  \n",
            "15083     left\n",
            "14395    right\n",
            "Name: bias_rating, dtype: object\n"
          ]
        }
      ]
    },
    {
      "cell_type": "markdown",
      "source": [
        "Resetting indices"
      ],
      "metadata": {
        "id": "Vnkpz1bxvrmj"
      }
    },
    {
      "cell_type": "code",
      "source": [
        "X_train = X_train.reset_index(drop = True)\n",
        "X_test = X_test.reset_index(drop = True)\n",
        "X_valid = X_valid.reset_index(drop = True)\n",
        "y_train = y_train.reset_index(drop = True)\n",
        "y_test = y_test.reset_index(drop = True)\n",
        "y_valid = y_valid.reset_index(drop = True)\n",
        "\n",
        "print(X_train.head(2))\n",
        "print(y_train.head(2))"
      ],
      "metadata": {
        "colab": {
          "base_uri": "https://localhost:8080/"
        },
        "id": "_A24a_owvTHH",
        "outputId": "950006a2-515a-4b05-fdb3-37b658745bb4"
      },
      "execution_count": 76,
      "outputs": [
        {
          "output_type": "stream",
          "name": "stdout",
          "text": [
            "                     title                                            heading  \\\n",
            "0        texas voting laws  holder now going after texas voting law in rac...   \n",
            "1  vp debate tuesday night  bidenã¢â‚¬â„¢s debate aim: reclaim edge after ...   \n",
            "\n",
            "                                                text  \n",
            "0  there is one thing to be said about attorney g...  \n",
            "1  with president obama looking to an unpredictab...  \n",
            "0     left\n",
            "1    right\n",
            "Name: bias_rating, dtype: object\n"
          ]
        }
      ]
    },
    {
      "cell_type": "markdown",
      "source": [
        "**Setting up for MS2**"
      ],
      "metadata": {
        "id": "IGcLqjcmKT5t"
      }
    },
    {
      "cell_type": "code",
      "source": [
        "import tensorflow as tf\n",
        "import huggingface_hub\n",
        "from transformers import AutoTokenizer"
      ],
      "metadata": {
        "id": "6dwDwSxBGwla"
      },
      "execution_count": null,
      "outputs": []
    },
    {
      "cell_type": "code",
      "source": [
        "model = \"bert-base-uncased\"\n",
        "tokenizer = AutoTokenizer.from_pretrained(model)\n"
      ],
      "metadata": {
        "id": "5oJ7-cy7HSU-",
        "colab": {
          "base_uri": "https://localhost:8080/"
        },
        "outputId": "8d58bb12-5754-4e2e-cfb3-3093f1d2621e"
      },
      "execution_count": null,
      "outputs": [
        {
          "output_type": "stream",
          "name": "stderr",
          "text": [
            "/usr/local/lib/python3.11/dist-packages/huggingface_hub/utils/_auth.py:94: UserWarning: \n",
            "The secret `HF_TOKEN` does not exist in your Colab secrets.\n",
            "To authenticate with the Hugging Face Hub, create a token in your settings tab (https://huggingface.co/settings/tokens), set it as secret in your Google Colab and restart your session.\n",
            "You will be able to reuse this secret in all of your notebooks.\n",
            "Please note that authentication is recommended but still optional to access public models or datasets.\n",
            "  warnings.warn(\n"
          ]
        }
      ]
    },
    {
      "cell_type": "code",
      "source": [
        "test_tokens = tokenizer.tokenize(X_train[\"text\"][0])\n",
        "test_token_ids = tokenizer.convert_tokens_to_ids(test_tokens)\n",
        "print(test_tokens)\n",
        "print(test_token_ids)"
      ],
      "metadata": {
        "id": "Cw_VbecNBXwT",
        "colab": {
          "base_uri": "https://localhost:8080/"
        },
        "outputId": "f1d48d2c-fc7e-40a9-a1f9-40f367068387"
      },
      "execution_count": null,
      "outputs": [
        {
          "output_type": "stream",
          "name": "stdout",
          "text": [
            "['as', 'ya', '##sm', '##in', 'miller', 'drove', 'home', 'from', 'a', 'lau', '##nd', '##rom', '##at', 'in', 'chicago', '’', 's', 'eng', '##lewood', 'neighborhood', 'last', 'weekend', ',', 'a', 'gun', '##man', 'in', 'another', 'car', 'pepper', '##ed', 'her', 'red', 'hyundai', 'sedan', 'with', 'bullets', ',', 'grazing', 'her', 'head', 'and', 'striking', 'her', 'son', ',', 'sincere', 'gaston', ',', 'in', 'the', 'chest', '.', 'sincere', 'died', 'in', 'his', 'car', 'seat', '.', 'he', 'was', '20', 'months', 'old', '.', 'on', 'june', '20', ',', 'a', 'man', 'fired', 'gunshot', '##s', 'through', 'the', 'back', 'of', 'a', 'dark', 'blue', 'suv', ',', 'wounding', 'the', '27', '-', 'year', '-', 'old', 'man', 'driving', 'and', 'hitting', 'his', 'steps', '##on', ',', 'me', '##kh', '##i', 'james', ',', 'in', 'the', 'back', ',', 'killing', 'him', '.', 'me', '##kh', '##i', 'was', 'three', '.', 'two', 'girls', ',', 'both', 'aged', 'three', ',', 'were', 'hospitalized', '.', '.', '.']\n",
            "[2004, 8038, 6491, 2378, 4679, 5225, 2188, 2013, 1037, 21360, 4859, 21716, 4017, 1999, 3190, 1521, 1055, 25540, 26580, 5101, 2197, 5353, 1010, 1037, 3282, 2386, 1999, 2178, 2482, 11565, 2098, 2014, 2417, 25983, 15134, 2007, 10432, 1010, 15400, 2014, 2132, 1998, 8478, 2014, 2365, 1010, 18006, 18572, 1010, 1999, 1996, 3108, 1012, 18006, 2351, 1999, 2010, 2482, 2835, 1012, 2002, 2001, 2322, 2706, 2214, 1012, 2006, 2238, 2322, 1010, 1037, 2158, 5045, 22077, 2015, 2083, 1996, 2067, 1997, 1037, 2601, 2630, 15620, 1010, 27285, 1996, 2676, 1011, 2095, 1011, 2214, 2158, 4439, 1998, 7294, 2010, 4084, 2239, 1010, 2033, 10023, 2072, 2508, 1010, 1999, 1996, 2067, 1010, 4288, 2032, 1012, 2033, 10023, 2072, 2001, 2093, 1012, 2048, 3057, 1010, 2119, 4793, 2093, 1010, 2020, 24735, 1012, 1012, 1012]\n"
          ]
        }
      ]
    },
    {
      "cell_type": "markdown",
      "source": [
        "Now, we will tokenize all the columns of all the sets. Also, should we drop source column??"
      ],
      "metadata": {
        "id": "jx-75qHAVsNN"
      }
    },
    {
      "cell_type": "code",
      "source": [],
      "metadata": {
        "id": "zBORnO-NVY4E"
      },
      "execution_count": null,
      "outputs": []
    },
    {
      "cell_type": "code",
      "source": [],
      "metadata": {
        "id": "RkocnVqlVwtf"
      },
      "execution_count": null,
      "outputs": []
    }
  ]
}